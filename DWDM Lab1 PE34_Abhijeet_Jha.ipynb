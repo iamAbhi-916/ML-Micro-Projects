{
 "cells": [
  {
   "cell_type": "markdown",
   "metadata": {},
   "source": [
    "# lab1 part 2 "
   ]
  },
  {
   "cell_type": "code",
   "execution_count": 1,
   "metadata": {},
   "outputs": [],
   "source": [
    "import numpy as np \n"
   ]
  },
  {
   "cell_type": "code",
   "execution_count": 2,
   "metadata": {},
   "outputs": [],
   "source": [
    "#not specifying size doesnt allow data to be partioned within a range uniformly\n",
    "data = np.random.uniform(-1 , 1 , size = None )"
   ]
  },
  {
   "cell_type": "code",
   "execution_count": 3,
   "metadata": {},
   "outputs": [],
   "source": [
    "#specifying size '1000' gives us that many uniform divisions within the given lower limit and upperlimit \n",
    "data1 = np.random.uniform(-10 , 10 , 1000)"
   ]
  },
  {
   "cell_type": "code",
   "execution_count": 4,
   "metadata": {},
   "outputs": [
    {
     "data": {
      "text/plain": [
       "numpy.ndarray"
      ]
     },
     "execution_count": 4,
     "metadata": {},
     "output_type": "execute_result"
    }
   ],
   "source": [
    "type(data1)\n"
   ]
  },
  {
   "cell_type": "code",
   "execution_count": 5,
   "metadata": {},
   "outputs": [
    {
     "data": {
      "text/plain": [
       "float"
      ]
     },
     "execution_count": 5,
     "metadata": {},
     "output_type": "execute_result"
    }
   ],
   "source": [
    "type(data)\n"
   ]
  },
  {
   "cell_type": "code",
   "execution_count": 6,
   "metadata": {},
   "outputs": [
    {
     "data": {
      "image/png": "[encoded data removed]",
      "text/plain": [
       "<Figure size 432x288 with 1 Axes>"
      ]
     },
     "metadata": {
      "needs_background": "light"
     },
     "output_type": "display_data"
    }
   ],
   "source": [
    "#clearly not specifying size argument in random() led to complete data getting segmented to a single bin \n",
    "import matplotlib.pyplot as plt\n",
    "count, bins, ignored = plt.hist(data, 15, density=True)\n",
    "plt.plot(bins, np.ones_like(bins), linewidth=2, color='r')\n",
    "plt.show()"
   ]
  },
  {
   "cell_type": "code",
   "execution_count": 7,
   "metadata": {},
   "outputs": [
    {
     "data": {
      "image/png": "[encoded data removed]",
      "text/plain": [
       "<Figure size 432x288 with 1 Axes>"
      ]
     },
     "metadata": {
      "needs_background": "light"
     },
     "output_type": "display_data"
    }
   ],
   "source": [
    "# plotting histogram with uniformity line to show that the data gets uniformly distributed using random.uniform()\n",
    "import matplotlib.pyplot as plt\n",
    "count, bins, ignored = plt.hist(data1, 15, density=True)\n",
    "plt.plot(bins, np.ones_like(bins), linewidth=2, color='r')\n",
    "plt.show()\n",
    "\n"
   ]
  },
  {
   "cell_type": "markdown",
   "metadata": {},
   "source": [
    "# lab1 pt1"
   ]
  },
  {
   "cell_type": "code",
   "execution_count": 8,
   "metadata": {},
   "outputs": [],
   "source": [
    "import pandas as pd \n",
    "df = pd.read_csv('C:/Users/user/Desktop/raw-material-properties.csv')"
   ]
  },
  {
   "cell_type": "code",
   "execution_count": 9,
   "metadata": {},
   "outputs": [
    {
     "data": {
      "text/html": [
       "<div>\n",
       "<style scoped>\n",
       "    .dataframe tbody tr th:only-of-type {\n",
       "        vertical-align: middle;\n",
       "    }\n",
       "\n",
       "    .dataframe tbody tr th {\n",
       "        vertical-align: top;\n",
       "    }\n",
       "\n",
       "    .dataframe thead th {\n",
       "        text-align: right;\n",
       "    }\n",
       "</style>\n",
       "<table border=\"1\" class=\"dataframe\">\n",
       "  <thead>\n",
       "    <tr style=\"text-align: right;\">\n",
       "      <th></th>\n",
       "      <th>Sample</th>\n",
       "      <th>size1</th>\n",
       "      <th>size2</th>\n",
       "      <th>size3</th>\n",
       "      <th>density1</th>\n",
       "      <th>density2</th>\n",
       "      <th>density3</th>\n",
       "    </tr>\n",
       "  </thead>\n",
       "  <tbody>\n",
       "    <tr>\n",
       "      <th>0</th>\n",
       "      <td>X12558</td>\n",
       "      <td>0.696</td>\n",
       "      <td>2.69</td>\n",
       "      <td>6.38</td>\n",
       "      <td>41.8</td>\n",
       "      <td>17.18</td>\n",
       "      <td>3.90</td>\n",
       "    </tr>\n",
       "    <tr>\n",
       "      <th>1</th>\n",
       "      <td>X14728</td>\n",
       "      <td>0.636</td>\n",
       "      <td>2.30</td>\n",
       "      <td>5.14</td>\n",
       "      <td>38.1</td>\n",
       "      <td>12.73</td>\n",
       "      <td>3.89</td>\n",
       "    </tr>\n",
       "    <tr>\n",
       "      <th>2</th>\n",
       "      <td>X15468</td>\n",
       "      <td>0.841</td>\n",
       "      <td>2.85</td>\n",
       "      <td>5.20</td>\n",
       "      <td>37.6</td>\n",
       "      <td>13.58</td>\n",
       "      <td>3.98</td>\n",
       "    </tr>\n",
       "    <tr>\n",
       "      <th>3</th>\n",
       "      <td>X21364</td>\n",
       "      <td>0.609</td>\n",
       "      <td>2.13</td>\n",
       "      <td>4.62</td>\n",
       "      <td>34.2</td>\n",
       "      <td>11.12</td>\n",
       "      <td>4.02</td>\n",
       "    </tr>\n",
       "    <tr>\n",
       "      <th>4</th>\n",
       "      <td>X23671</td>\n",
       "      <td>0.684</td>\n",
       "      <td>2.16</td>\n",
       "      <td>4.87</td>\n",
       "      <td>36.4</td>\n",
       "      <td>12.24</td>\n",
       "      <td>3.92</td>\n",
       "    </tr>\n",
       "    <tr>\n",
       "      <th>5</th>\n",
       "      <td>X24055</td>\n",
       "      <td>0.762</td>\n",
       "      <td>2.81</td>\n",
       "      <td>6.36</td>\n",
       "      <td>38.1</td>\n",
       "      <td>13.28</td>\n",
       "      <td>3.89</td>\n",
       "    </tr>\n",
       "    <tr>\n",
       "      <th>6</th>\n",
       "      <td>X24905</td>\n",
       "      <td>0.552</td>\n",
       "      <td>2.34</td>\n",
       "      <td>5.03</td>\n",
       "      <td>41.3</td>\n",
       "      <td>16.71</td>\n",
       "      <td>3.86</td>\n",
       "    </tr>\n",
       "    <tr>\n",
       "      <th>7</th>\n",
       "      <td>X25917</td>\n",
       "      <td>0.501</td>\n",
       "      <td>2.17</td>\n",
       "      <td>5.09</td>\n",
       "      <td>NaN</td>\n",
       "      <td>NaN</td>\n",
       "      <td>NaN</td>\n",
       "    </tr>\n",
       "    <tr>\n",
       "      <th>8</th>\n",
       "      <td>X27871</td>\n",
       "      <td>0.619</td>\n",
       "      <td>2.11</td>\n",
       "      <td>5.13</td>\n",
       "      <td>NaN</td>\n",
       "      <td>NaN</td>\n",
       "      <td>NaN</td>\n",
       "    </tr>\n",
       "    <tr>\n",
       "      <th>9</th>\n",
       "      <td>X28690</td>\n",
       "      <td>0.610</td>\n",
       "      <td>2.10</td>\n",
       "      <td>4.18</td>\n",
       "      <td>35.0</td>\n",
       "      <td>12.15</td>\n",
       "      <td>3.86</td>\n",
       "    </tr>\n",
       "  </tbody>\n",
       "</table>\n",
       "</div>"
      ],
      "text/plain": [
       "   Sample  size1  size2  size3  density1  density2  density3\n",
       "0  X12558  0.696   2.69   6.38      41.8     17.18      3.90\n",
       "1  X14728  0.636   2.30   5.14      38.1     12.73      3.89\n",
       "2  X15468  0.841   2.85   5.20      37.6     13.58      3.98\n",
       "3  X21364  0.609   2.13   4.62      34.2     11.12      4.02\n",
       "4  X23671  0.684   2.16   4.87      36.4     12.24      3.92\n",
       "5  X24055  0.762   2.81   6.36      38.1     13.28      3.89\n",
       "6  X24905  0.552   2.34   5.03      41.3     16.71      3.86\n",
       "7  X25917  0.501   2.17   5.09       NaN       NaN       NaN\n",
       "8  X27871  0.619   2.11   5.13       NaN       NaN       NaN\n",
       "9  X28690  0.610   2.10   4.18      35.0     12.15      3.86"
      ]
     },
     "execution_count": 9,
     "metadata": {},
     "output_type": "execute_result"
    }
   ],
   "source": [
    "df.head(10)"
   ]
  },
  {
   "cell_type": "code",
   "execution_count": 10,
   "metadata": {},
   "outputs": [
    {
     "name": "stdout",
     "output_type": "stream",
     "text": [
      "<class 'pandas.core.frame.DataFrame'>\n",
      "RangeIndex: 36 entries, 0 to 35\n",
      "Data columns (total 7 columns):\n",
      " #   Column    Non-Null Count  Dtype  \n",
      "---  ------    --------------  -----  \n",
      " 0   Sample    36 non-null     object \n",
      " 1   size1     35 non-null     float64\n",
      " 2   size2     35 non-null     float64\n",
      " 3   size3     35 non-null     float64\n",
      " 4   density1  26 non-null     float64\n",
      " 5   density2  26 non-null     float64\n",
      " 6   density3  26 non-null     float64\n",
      "dtypes: float64(6), object(1)\n",
      "memory usage: 2.1+ KB\n"
     ]
    }
   ],
   "source": [
    "df.info()"
   ]
  },
  {
   "cell_type": "markdown",
   "metadata": {},
   "source": [
    "# size1 , size2 , size3 , Density 1 , Density 2 , Density 3 have missing values ."
   ]
  },
  {
   "cell_type": "code",
   "execution_count": 11,
   "metadata": {},
   "outputs": [
    {
     "data": {
      "text/plain": [
       "<AxesSubplot:>"
      ]
     },
     "execution_count": 11,
     "metadata": {},
     "output_type": "execute_result"
    },
    {
     "data": {
      "image/png": "[encoded data removed]",
      "text/plain": [
       "<Figure size 432x288 with 1 Axes>"
      ]
     },
     "metadata": {
      "needs_background": "light"
     },
     "output_type": "display_data"
    }
   ],
   "source": [
    "#DATA CLEANING VIA heatmap\n",
    "import seaborn as sns \n",
    "sns.heatmap(df.isnull(),yticklabels=False,cbar=False)"
   ]
  },
  {
   "cell_type": "code",
   "execution_count": 12,
   "metadata": {},
   "outputs": [
    {
     "data": {
      "text/plain": [
       "Sample       0\n",
       "size1        1\n",
       "size2        1\n",
       "size3        1\n",
       "density1    10\n",
       "density2    10\n",
       "density3    10\n",
       "dtype: int64"
      ]
     },
     "execution_count": 12,
     "metadata": {},
     "output_type": "execute_result"
    }
   ],
   "source": [
    "#alternative to check number of missing values in dataset \n",
    "df.isnull().sum()"
   ]
  },
  {
   "cell_type": "code",
   "execution_count": 3,
   "metadata": {},
   "outputs": [
    {
     "ename": "NameError",
     "evalue": "name 'df' is not defined",
     "output_type": "error",
     "traceback": [
      "\u001b[1;31m---------------------------------------------------------------------------\u001b[0m",
      "\u001b[1;31mNameError\u001b[0m                                 Traceback (most recent call last)",
      "\u001b[1;32m<ipython-input-3-fe1a1bc1f921>\u001b[0m in \u001b[0;36m<module>\u001b[1;34m\u001b[0m\n\u001b[0;32m      1\u001b[0m \u001b[1;31m#alternative fillna( ) to remove null values with mean of respective columns .\u001b[0m\u001b[1;33m\u001b[0m\u001b[1;33m\u001b[0m\u001b[1;33m\u001b[0m\u001b[0m\n\u001b[1;32m----> 2\u001b[1;33m \u001b[0malternative_df\u001b[0m \u001b[1;33m=\u001b[0m \u001b[0mdf\u001b[0m\u001b[1;33m.\u001b[0m\u001b[0mcopy\u001b[0m\u001b[1;33m(\u001b[0m\u001b[1;33m)\u001b[0m\u001b[1;33m\u001b[0m\u001b[1;33m\u001b[0m\u001b[0m\n\u001b[0m\u001b[0;32m      3\u001b[0m \u001b[1;31m#we have to see what datatypes are our features or variables in dataset from info() above and replace null values accordingly\u001b[0m\u001b[1;33m\u001b[0m\u001b[1;33m\u001b[0m\u001b[1;33m\u001b[0m\u001b[0m\n\u001b[0;32m      4\u001b[0m \u001b[0malternative_df\u001b[0m\u001b[1;33m[\u001b[0m\u001b[1;34m'size1'\u001b[0m\u001b[1;33m]\u001b[0m\u001b[1;33m.\u001b[0m\u001b[0mfillna\u001b[0m\u001b[1;33m(\u001b[0m\u001b[0mmethod\u001b[0m\u001b[1;33m=\u001b[0m \u001b[1;34m'ffill'\u001b[0m\u001b[1;33m,\u001b[0m \u001b[0minplace\u001b[0m \u001b[1;33m=\u001b[0m \u001b[1;32mTrue\u001b[0m \u001b[1;33m)\u001b[0m\u001b[1;33m\u001b[0m\u001b[1;33m\u001b[0m\u001b[0m\n\u001b[0;32m      5\u001b[0m \u001b[0malternative_df\u001b[0m\u001b[1;33m[\u001b[0m\u001b[1;34m'size2'\u001b[0m\u001b[1;33m]\u001b[0m\u001b[1;33m.\u001b[0m\u001b[0mfillna\u001b[0m\u001b[1;33m(\u001b[0m\u001b[0mmethod\u001b[0m \u001b[1;33m=\u001b[0m \u001b[1;34m'ffill'\u001b[0m\u001b[1;33m,\u001b[0m \u001b[0minplace\u001b[0m \u001b[1;33m=\u001b[0m \u001b[1;32mTrue\u001b[0m \u001b[1;33m)\u001b[0m\u001b[1;33m\u001b[0m\u001b[1;33m\u001b[0m\u001b[0m\n",
      "\u001b[1;31mNameError\u001b[0m: name 'df' is not defined"
     ]
    }
   ],
   "source": [
    "#alternative fillna( ) to remove null values with mean of respective columns .\n",
    "alternative_df = df.copy()\n",
    "#we have to see what datatypes are our features or variables in dataset from info() above and replace null values accordingly \n",
    "alternative_df['size1'].fillna(method= 'ffill', inplace = True )\n",
    "alternative_df['size2'].fillna(method = 'ffill', inplace = True )\n",
    "alternative_df['size3'].fillna(method='ffill', inplace = True )\n",
    "alternative_df['density1'].fillna(method='ffill', inplace = True )\n",
    "alternative_df['density2'].fillna(method='ffill', inplace = True )\n",
    "alternative_df['density3'].fillna(method='ffill', inplace = True )"
   ]
  },
  {
   "cell_type": "code",
   "execution_count": 66,
   "metadata": {},
   "outputs": [
    {
     "name": "stdout",
     "output_type": "stream",
     "text": [
      "<class 'pandas.core.frame.DataFrame'>\n",
      "RangeIndex: 36 entries, 0 to 35\n",
      "Data columns (total 7 columns):\n",
      " #   Column    Non-Null Count  Dtype  \n",
      "---  ------    --------------  -----  \n",
      " 0   Sample    36 non-null     object \n",
      " 1   size1     36 non-null     float64\n",
      " 2   size2     36 non-null     float64\n",
      " 3   size3     36 non-null     float64\n",
      " 4   density1  36 non-null     float64\n",
      " 5   density2  36 non-null     float64\n",
      " 6   density3  36 non-null     float64\n",
      "dtypes: float64(6), object(1)\n",
      "memory usage: 2.1+ KB\n"
     ]
    }
   ],
   "source": [
    "alternative_df.info()"
   ]
  },
  {
   "cell_type": "code",
   "execution_count": 67,
   "metadata": {},
   "outputs": [
    {
     "data": {
      "text/plain": [
       "Sample      0\n",
       "size1       0\n",
       "size2       0\n",
       "size3       0\n",
       "density1    0\n",
       "density2    0\n",
       "density3    0\n",
       "dtype: int64"
      ]
     },
     "execution_count": 67,
     "metadata": {},
     "output_type": "execute_result"
    }
   ],
   "source": [
    "#checking if null values are present anymore \n",
    "alternative_df.isnull().sum()"
   ]
  },
  {
   "cell_type": "markdown",
   "metadata": {},
   "source": [
    "# No null values present , now we will try this using imputer module of sklearn , which will require much less lines of code to efficiently perform the functionality of removing null values and replacing it ."
   ]
  },
  {
   "cell_type": "code",
   "execution_count": 39,
   "metadata": {},
   "outputs": [
    {
     "name": "stdout",
     "output_type": "stream",
     "text": [
      "<class 'pandas.core.frame.DataFrame'>\n",
      "RangeIndex: 36 entries, 0 to 35\n",
      "Data columns (total 7 columns):\n",
      " #   Column    Non-Null Count  Dtype  \n",
      "---  ------    --------------  -----  \n",
      " 0   Sample    36 non-null     object \n",
      " 1   size1     35 non-null     float64\n",
      " 2   size2     35 non-null     float64\n",
      " 3   size3     35 non-null     float64\n",
      " 4   density1  26 non-null     float64\n",
      " 5   density2  26 non-null     float64\n",
      " 6   density3  26 non-null     float64\n",
      "dtypes: float64(6), object(1)\n",
      "memory usage: 2.1+ KB\n"
     ]
    }
   ],
   "source": [
    "df.info()"
   ]
  },
  {
   "cell_type": "code",
   "execution_count": 42,
   "metadata": {},
   "outputs": [],
   "source": [
    "#remove missing values using simple imputer module and replace it with most frequent element in the respective features \n",
    "import numpy as np\n",
    "from sklearn.impute import SimpleImputer\n",
    "\n",
    "impute = SimpleImputer(missing_values=np.nan, strategy='most_frequent') # strategy can be mean , median , most_frequent depending on requiremnets.\n",
    "impute.fit(df)\n",
    "X=impute.transform(df)"
   ]
  },
  {
   "cell_type": "code",
   "execution_count": 53,
   "metadata": {},
   "outputs": [],
   "source": [
    " df.columns.values\n",
    "columns = ['Sample', 'size1', 'size2', 'size3', 'density1', 'density2',\n",
    "       'density3']"
   ]
  },
  {
   "cell_type": "code",
   "execution_count": 54,
   "metadata": {},
   "outputs": [
    {
     "data": {
      "text/plain": [
       "<AxesSubplot:xlabel='None'>"
      ]
     },
     "execution_count": 54,
     "metadata": {},
     "output_type": "execute_result"
    },
    {
     "data": {
      "image/png": "[encoded data removed]",
      "text/plain": [
       "<Figure size 432x288 with 1 Axes>"
      ]
     },
     "metadata": {
      "needs_background": "light"
     },
     "output_type": "display_data"
    }
   ],
   "source": [
    "#now check heatmap to see missing values \n",
    "\n",
    "import seaborn as sns \n",
    "new_df = pd.DataFrame(X , columns= columns_values)\n",
    "sns.heatmap(new_df.isnull(),yticklabels=False,cbar=False)"
   ]
  },
  {
   "cell_type": "code",
   "execution_count": 55,
   "metadata": {},
   "outputs": [],
   "source": [
    "#here we can clearly see noo null values in the data frame and hence the lab requirements are successfully accomplished ."
   ]
  },
  {
   "cell_type": "markdown",
   "metadata": {},
   "source": [
    "# dealing with categorical columns "
   ]
  },
  {
   "cell_type": "code",
   "execution_count": 68,
   "metadata": {},
   "outputs": [
    {
     "name": "stdout",
     "output_type": "stream",
     "text": [
      "<class 'pandas.core.frame.DataFrame'>\n",
      "RangeIndex: 36 entries, 0 to 35\n",
      "Data columns (total 7 columns):\n",
      " #   Column    Non-Null Count  Dtype  \n",
      "---  ------    --------------  -----  \n",
      " 0   Sample    36 non-null     object \n",
      " 1   size1     36 non-null     float64\n",
      " 2   size2     36 non-null     float64\n",
      " 3   size3     36 non-null     float64\n",
      " 4   density1  36 non-null     float64\n",
      " 5   density2  36 non-null     float64\n",
      " 6   density3  36 non-null     float64\n",
      "dtypes: float64(6), object(1)\n",
      "memory usage: 2.1+ KB\n"
     ]
    }
   ],
   "source": [
    "alternative_df.info()"
   ]
  },
  {
   "cell_type": "code",
   "execution_count": 77,
   "metadata": {},
   "outputs": [
    {
     "data": {
      "text/plain": [
       "array(['X12558', 'X14728', 'X15468', 'X21364', 'X23671', 'X24055',\n",
       "       'X24905', 'X25917', 'X27871', 'X28690', 'X31385', 'X31813',\n",
       "       'X32807', 'X33943', 'X35035', 'X39223', 'X40503', 'X41400',\n",
       "       'X42988', 'X44749', 'X45295', 'X46965', 'X49666', 'X50678',\n",
       "       'X52894', 'X53925', 'X54254', 'X54272', 'X54394', 'X55408',\n",
       "       'X56952', 'X57095', 'X57128', 'X61870', 'X61888', 'X72736'],\n",
       "      dtype=object)"
      ]
     },
     "execution_count": 77,
     "metadata": {},
     "output_type": "execute_result"
    }
   ],
   "source": [
    "alternative_df['Sample'].unique()"
   ]
  },
  {
   "cell_type": "code",
   "execution_count": 78,
   "metadata": {},
   "outputs": [
    {
     "data": {
      "text/plain": [
       "array([ 0,  1,  2,  3,  4,  5,  6,  7,  8,  9, 10, 11, 12, 13, 14, 15, 16,\n",
       "       17, 18, 19, 20, 21, 22, 23, 24, 25, 26, 27, 28, 29, 30, 31, 32, 33,\n",
       "       34, 35])"
      ]
     },
     "execution_count": 78,
     "metadata": {},
     "output_type": "execute_result"
    }
   ],
   "source": [
    "from sklearn import preprocessing \n",
    "  \n",
    "# label_encoder because too many nominal categories.\n",
    "label_encoder = preprocessing.LabelEncoder() \n",
    "  \n",
    "# Encode labels in column 'Sample'. \n",
    "alternative_df['Sample']= label_encoder.fit_transform(alternative_df['Sample']) \n",
    "  \n",
    "alternative_df['Sample'].unique() \n",
    "  "
   ]
  },
  {
   "cell_type": "code",
   "execution_count": 79,
   "metadata": {},
   "outputs": [],
   "source": [
    "import matplotlib.pyplot as plt\n",
    "sns.set()"
   ]
  },
  {
   "cell_type": "code",
   "execution_count": 80,
   "metadata": {},
   "outputs": [
    {
     "data": {
      "text/plain": [
       "<AxesSubplot:>"
      ]
     },
     "execution_count": 80,
     "metadata": {},
     "output_type": "execute_result"
    },
    {
     "data": {
      "image/png": "[encoded data removed]",
      "text/plain": [
       "<Figure size 432x288 with 1 Axes>"
      ]
     },
     "metadata": {},
     "output_type": "display_data"
    }
   ],
   "source": [
    "alternative_df.boxplot()"
   ]
  },
  {
   "cell_type": "markdown",
   "metadata": {},
   "source": [
    "# train test split "
   ]
  },
  {
   "cell_type": "code",
   "execution_count": 102,
   "metadata": {},
   "outputs": [],
   "source": [
    "from sklearn.model_selection import train_test_split"
   ]
  },
  {
   "cell_type": "code",
   "execution_count": 103,
   "metadata": {},
   "outputs": [],
   "source": [
    "y = alternative_df['density3']\n",
    "X =alternative_df.drop(['density3'] , axis=1)\n"
   ]
  },
  {
   "cell_type": "markdown",
   "metadata": {},
   "source": [
    "# feature scaling"
   ]
  },
  {
   "cell_type": "code",
   "execution_count": 104,
   "metadata": {},
   "outputs": [],
   "source": [
    "from sklearn.preprocessing import StandardScaler\n"
   ]
  },
  {
   "cell_type": "code",
   "execution_count": 105,
   "metadata": {},
   "outputs": [],
   "source": [
    "scaler = StandardScaler()"
   ]
  },
  {
   "cell_type": "code",
   "execution_count": 106,
   "metadata": {},
   "outputs": [
    {
     "data": {
      "text/plain": [
       "StandardScaler(copy=True, with_mean=True, with_std=True)"
      ]
     },
     "execution_count": 106,
     "metadata": {},
     "output_type": "execute_result"
    }
   ],
   "source": [
    "scaler.fit(X)"
   ]
  },
  {
   "cell_type": "code",
   "execution_count": 107,
   "metadata": {},
   "outputs": [],
   "source": [
    "x_scaled = scaler.transform(X)"
   ]
  },
  {
   "cell_type": "code",
   "execution_count": 110,
   "metadata": {},
   "outputs": [
    {
     "data": {
      "text/plain": [
       "array([[-1.68458833e+00,  2.25065368e-01,  1.41144544e+00,\n",
       "         1.94070441e+00,  2.12671863e+00,  2.26767544e+00],\n",
       "       [-1.58832614e+00, -4.26598432e-01, -1.99667892e-01,\n",
       "        -1.21987134e-01,  3.82390295e-01, -4.35916177e-01],\n",
       "       [-1.49206395e+00,  1.79991955e+00,  2.07241502e+00,\n",
       "        -2.21794789e-02,  1.46670250e-01,  8.05001999e-02],\n",
       "       [-1.39580176e+00, -7.19847142e-01, -9.01948064e-01,\n",
       "        -9.86986812e-01, -1.45622606e+00, -1.41406955e+00],\n",
       "       [-1.29953957e+00,  9.47326080e-02, -7.78016269e-01,\n",
       "        -5.71121582e-01, -4.19057858e-01, -7.33615030e-01],\n",
       "       [-1.20327738e+00,  9.41895548e-01,  1.90717262e+00,\n",
       "         1.90743519e+00,  3.82390295e-01, -1.01764404e-01],\n",
       "       [-1.10701519e+00, -1.33892775e+00, -3.44254986e-02,\n",
       "        -3.04967835e-01,  1.89099858e+00,  1.98212756e+00],\n",
       "       [-1.01075300e+00, -1.89284198e+00, -7.36705671e-01,\n",
       "        -2.05160180e-01,  1.89099858e+00,  1.98212756e+00],\n",
       "       [-9.14490807e-01, -6.11236509e-01, -9.84569261e-01,\n",
       "        -1.38621743e-01,  1.89099858e+00,  1.98212756e+00],\n",
       "       [-8.18228617e-01, -7.08986079e-01, -1.02587986e+00,\n",
       "        -1.71890962e+00, -1.07907398e+00, -7.88294411e-01],\n",
       "       [-7.21966427e-01, -1.55614902e+00, -1.06719046e+00,\n",
       "        -4.71313927e-01, -1.07907398e+00, -7.88294411e-01],\n",
       "       [-6.25704236e-01,  6.81230028e-01, -2.40978490e-01,\n",
       "         4.26954969e-01, -1.07907398e+00, -7.88294411e-01],\n",
       "       [-5.29442046e-01,  1.12653363e+00,  1.12227126e+00,\n",
       "         6.26570279e-01, -1.07907398e+00, -7.88294411e-01],\n",
       "       [-4.33179856e-01, -1.50184370e+00, -4.88842081e-01,\n",
       "         3.27147314e-01, -9.84785966e-01, -1.28040884e+00],\n",
       "       [-3.36917666e-01,  2.90231748e-01, -1.23243285e+00,\n",
       "        -1.88525571e-01, -1.45622606e+00, -1.76644778e+00],\n",
       "       [-2.40655476e-01,  1.00706193e+00,  6.67854673e-01,\n",
       "        -2.05160180e-01, -1.12621799e+00, -5.45274939e-01],\n",
       "       [-1.44393285e-01,  4.20564508e-01,  8.74407665e-01,\n",
       "         1.35849308e+00, -7.96209930e-01, -7.57916977e-01],\n",
       "       [-4.81310951e-02, -5.89514382e-01,  2.96059288e-01,\n",
       "        -1.88525571e-01,  6.65254350e-01,  4.99708788e-01],\n",
       "       [ 4.81310951e-02,  5.50897268e-01, -9.84569261e-01,\n",
       "        -8.70544548e-01, -8.90497948e-02, -1.86821219e-01],\n",
       "       [ 1.44393285e-01,  2.46787495e-01,  4.81956981e-02,\n",
       "         3.10512705e-01, -3.24769840e-01, -7.82218924e-01],\n",
       "       [ 2.40655476e-01,  2.46787495e-01,  4.81956981e-02,\n",
       "         3.10512705e-01,  3.82390295e-01, -6.53114830e-02],\n",
       "       [ 3.36917666e-01,  9.09312358e-01,  5.02612280e-01,\n",
       "        -6.37660019e-01,  6.65254350e-01,  8.39936048e-01],\n",
       "       [ 4.33179856e-01, -1.52356583e+00, -9.01948064e-01,\n",
       "         2.77243487e-02,  6.65254350e-01,  8.39936048e-01],\n",
       "       [ 5.29442046e-01,  4.42286635e-01, -2.40978490e-01,\n",
       "         3.93685751e-01,  5.23822323e-03,  1.53406041e-01],\n",
       "       [ 6.25704236e-01, -4.37459496e-01, -1.10850106e+00,\n",
       "        -4.54679318e-01,  5.23822323e-03,  1.53406041e-01],\n",
       "       [ 7.21966427e-01, -8.39318839e-01, -9.43258663e-01,\n",
       "        -8.70544548e-01,  2.88102277e-01,  1.51887170e-03],\n",
       "       [ 8.18228617e-01,  2.68509621e-01,  5.02612280e-01,\n",
       "         1.10897395e-02,  7.12398359e-01,  7.73105694e-01],\n",
       "       [ 9.14490807e-01,  3.05980290e+00,  2.52683160e+00,\n",
       "         3.58753072e+00, -5.13345876e-01, -4.10095358e-02],\n",
       "       [ 1.01075300e+00,  9.09312358e-01,  1.28751365e+00,\n",
       "         2.43974268e-01, -9.84785966e-01, -7.63992463e-01],\n",
       "       [ 1.10701519e+00, -1.55071849e-01, -1.02587986e+00,\n",
       "        -1.56919813e+00, -9.84785966e-01, -7.63992463e-01],\n",
       "       [ 1.20327738e+00, -3.17987799e-01,  1.30816895e-01,\n",
       "        -1.16996751e+00,  1.32527048e+00,  1.35635243e+00],\n",
       "       [ 1.29953957e+00, -1.44210785e-01, -3.44254986e-02,\n",
       "        -8.37275329e-01, -1.07907398e+00, -6.54633701e-01],\n",
       "       [ 1.39580176e+00,  8.00701725e-01,  3.37369887e-01,\n",
       "        -8.87179157e-02,  5.23822323e-03, -2.47576087e-01],\n",
       "       [ 1.49206395e+00, -8.39318839e-01, -5.71463277e-01,\n",
       "        -5.21217755e-01,  5.23822323e-03, -2.47576087e-01],\n",
       "       [ 1.58832614e+00, -6.11236509e-01,  9.98339460e-01,\n",
       "         9.92531682e-01,  5.23822323e-03, -2.47576087e-01],\n",
       "       [ 1.68458833e+00,  1.92482178e-01, -1.23243285e+00,\n",
       "        -3.21602444e-01,  1.08955043e+00,  1.27737110e+00]])"
      ]
     },
     "execution_count": 110,
     "metadata": {},
     "output_type": "execute_result"
    }
   ],
   "source": [
    "x_scaled"
   ]
  },
  {
   "cell_type": "code",
   "execution_count": 108,
   "metadata": {},
   "outputs": [],
   "source": [
    "X_train, X_test, y_train, y_test = train_test_split(x_scaled, y, test_size=0.2, random_state=365)"
   ]
  },
  {
   "cell_type": "code",
   "execution_count": null,
   "metadata": {},
   "outputs": [],
   "source": []
  }
 ],
 "metadata": {
  "kernelspec": {
   "display_name": "Python 3",
   "language": "python",
   "name": "python3"
  },
  "language_info": {
   "codemirror_mode": {
    "name": "ipython",
    "version": 3
   },
   "file_extension": ".py",
   "mimetype": "text/x-python",
   "name": "python",
   "nbconvert_exporter": "python",
   "pygments_lexer": "ipython3",
   "version": "3.7.6"
  }
 },
 "nbformat": 4,
 "nbformat_minor": 4
}
